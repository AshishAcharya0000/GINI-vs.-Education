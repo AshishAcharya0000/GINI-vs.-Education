{
  "nbformat": 4,
  "nbformat_minor": 0,
  "metadata": {
    "colab": {
      "name": "linear_regression.ipynb",
      "provenance": [],
      "collapsed_sections": []
    },
    "kernelspec": {
      "name": "python3",
      "display_name": "Python 3"
    },
    "language_info": {
      "name": "python"
    }
  },
  "cells": [
    {
      "cell_type": "code",
      "metadata": {
        "colab": {
          "base_uri": "https://localhost:8080/",
          "height": 371
        },
        "id": "d0NECNUkdDXd",
        "outputId": "3485bc56-bed8-43e3-c3d5-0cacbd9c19f8"
      },
      "source": [
        "# CS390Z - Introduction to Data Minining - Fall 2021\n",
        "# Instructor: Thyago Mota\n",
        "# Description: correlation analysis and linear regression (attempt)\n",
        "# ASHISH ACHARYA\n",
        "# LAST MODIFIED: 12:40 AM THURSDAY, OCT 7th, 2021\n",
        "\n",
        "#from google.colab import drive\n",
        "import pandas as pd\n",
        "import numpy as np\n",
        "import os\n",
        "from sklearn.linear_model import LinearRegression\n",
        "import matplotlib.pyplot as plt\n",
        "import csv\n",
        "from sklearn.metrics import r2_score\n",
        "\n",
        "# definitions/parameters\n",
        "DATA_FOLDER = '/content/drive/MyDrive/Colab_Datasets/country_indicators/'\n",
        "DATASET_NAME = 'country_indicators.csv'\n",
        "\n",
        "# Google drive mount\n",
        "# drive.mount('/content/drive')\n",
        "\n",
        "# TODO: create a pandas data frame from the CSV file\n",
        "df = pd.read_csv(os.path.join(DATA_FOLDER, DATASET_NAME))\n",
        "\n",
        "# (optional) TODO: define the country as the index for the data frame\n",
        "# HAVE TO ASSIGN IT TO A DF BECASUE SET INDEX DOENST MODIFY THE ORIGINAL DF\n",
        "df = df.set_index('country')\n",
        "#display(df) #265 rows × 39 columns\n",
        "\n",
        "# (optional) TODO: remove all columns except 'gini' and 'edu_index' from the data frame\n",
        "df.drop(df.columns.difference(['gini','edu_index']), 1, inplace=True)\n",
        "#display(df) #265 rows × 2 columns (as expected)\n",
        "\n",
        "# TODO: remove any country (index) that does not have both 'gini' and 'edu_index' values\n",
        "df = df[df['gini'].notna()] \n",
        "#display(df) #158 rows\n",
        "df = df[df['edu_index'].notna()] \n",
        "#display(df) #148 rows\n",
        "\n",
        "# TODO: compute and display the correlation matrix between 'gini' and 'edu_index'\n",
        "corrMatrix = df.corr()\n",
        "print (\"Correlation Matrix : \\n\" , corrMatrix)\n",
        "\n",
        "# TODO: attempt a linear regression model, displaying the obtained r2 score\n",
        "X = df['gini'].values.reshape((-1, 1))\n",
        "Y = df['edu_index'].values.reshape((-1, 1))\n",
        "model = LinearRegression().fit(X, Y)\n",
        "score = model.score(X, Y)\n",
        "print('r2 score: {:.2f}'.format(score))\n",
        "\n",
        "\n",
        "# TODO: produce a visualization of the data points and the fitted line\n",
        "# plot \n",
        "Y_pred = model.predict(X)\n",
        "plt.scatter(X, Y)\n",
        "plt.plot(X, Y_pred, '-r')\n",
        "plt.xlabel('gini')\n",
        "plt.ylabel('edu_index')\n",
        "plt.xlim([25, 60])\n",
        "plt.ylim([0, 1])\n",
        "plt.show()\n"
      ],
      "execution_count": 25,
      "outputs": [
        {
          "output_type": "stream",
          "name": "stdout",
          "text": [
            "Correlation Matrix : \n",
            "            edu_index    gini\n",
            "edu_index     1.0000 -0.3715\n",
            "gini         -0.3715  1.0000\n",
            "r2 score: 0.14\n"
          ]
        },
        {
          "output_type": "display_data",
          "data": {
            "image/png": "[encoded data removed]",
            "text/plain": [
              "<Figure size 432x288 with 1 Axes>"
            ]
          },
          "metadata": {
            "needs_background": "light"
          }
        }
      ]
    }
  ]
}